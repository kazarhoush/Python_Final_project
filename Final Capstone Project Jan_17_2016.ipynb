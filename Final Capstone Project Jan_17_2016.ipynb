{
 "cells": [
  {
   "cell_type": "code",
   "execution_count": null,
   "metadata": {
    "collapsed": true
   },
   "outputs": [],
   "source": [
    "\n",
    "# Count Vowels - Enter a string and the program counts the number of vowels in the text. \n",
    "# For added complexity have it report a sum of each vowel found.\n",
    "\n",
    "print \"Check the count of vowels in a word or sentence.\"\n",
    "sen = str(raw_input(\"Enter sentence or word here: \"))\n",
    "\n",
    "word_list = [str(char).lower() for char in sen]\n",
    "\n",
    "x = word_list.count('a')\n",
    "y = word_list.count('e')\n",
    "z = word_list.count('i')\n",
    "ab = word_list.count('o')\n",
    "bc = word_list.count('u')\n",
    "\n",
    "num_count = x + y + z + ab + bc\n",
    "print \"The vowel count is {}\".format(num_count)"
   ]
  },
  {
   "cell_type": "markdown",
   "metadata": {},
   "source": [
    "Distance Between Two Cities - Calculates the distance between two cities and allows the user to specify a unit of distance. This program may require finding coordinates for the cities like latitude and longitude."
   ]
  },
  {
   "cell_type": "code",
   "execution_count": null,
   "metadata": {
    "collapsed": true
   },
   "outputs": [],
   "source": [
    "from geopy.geocoders import Nominatim\n",
    "from geopy.distance import great_circle\n",
    "\n",
    "print \"Calculate the distance between two cities and specify a unit of distance.\"\n",
    "print \"\\n\"\n",
    "\n",
    "city = str(raw_input(\"Enter city and state or country: \"))\n",
    "print \"\\n\"\n",
    "\n",
    "city2 = str(raw_input(\"Enter city and state or country: \"))\n",
    "print \"\\n\"\n",
    "\n",
    "print \"Please choose your preferred measurement.\"\n",
    "print \"\\n\"\n",
    "\n",
    "m = str(raw_input(\"Enter m for miles: \")).lower()\n",
    "print \"\\n\"\n",
    "k = str(raw_input(\"Enter km for kilometers: \")).lower()\n",
    "print \"\\n\"\n",
    "f = str(raw_input(\"Enter ft for feet: \")).lower()\n",
    "\n",
    "geolocator = Nominatim()\n",
    "location = geolocator.geocode(city)\n",
    "location2 = geolocator.geocode(city2)\n",
    "\n",
    "address1 = location.address\n",
    "address2 = location2.address\n",
    "\n",
    "x = location.latitude, location.longitude\n",
    "y = location2.latitude, location2.longitude\n",
    "\n",
    "mile = great_circle(x, y).miles\n",
    "kilometers = great_circle(x, y).kilometers\n",
    "feet = great_circle(x, y).feet\n",
    "\n",
    "\n",
    "if m == 'm':\n",
    "    a1 = \"The distance between {0} and {1} is {2} miles.\".format(address1.encode('utf-8'), address2.encode('utf-8'), round(mile))\n",
    "    print a1\n",
    "    print \"\\n\"\n",
    "if k == 'km':\n",
    "    a2 = \"The distance between {0} and {1} is {2} kilometers.\".format()\n",
    "    print a2\n",
    "    print \"\\n\"\n",
    "if f == 'ft':\n",
    "    a3 = \"The distance between {0} and {1} is {2} feet.\".format()\n",
    "    print a3\n",
    "    print \"\\n\""
   ]
  }
 ],
 "metadata": {
  "kernelspec": {
   "display_name": "Python 2",
   "language": "python",
   "name": "python2"
  },
  "language_info": {
   "codemirror_mode": {
    "name": "ipython",
    "version": 2
   },
   "file_extension": ".py",
   "mimetype": "text/x-python",
   "name": "python",
   "nbconvert_exporter": "python",
   "pygments_lexer": "ipython2",
   "version": "2.7.11"
  }
 },
 "nbformat": 4,
 "nbformat_minor": 0
}
